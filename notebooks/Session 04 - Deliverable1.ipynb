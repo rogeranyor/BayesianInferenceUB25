{
 "cells": [
  {
   "cell_type": "markdown",
   "id": "ae2500fa-872e-4b3d-89bd-0247dd9845df",
   "metadata": {},
   "source": [
    "### Objective\n",
    "In this homework, you will explore Bayesian inference using a real-world scenario: the 1997 chess match between Garry Kasparov and IBM's \n",
    "Deep Blue.  You will work through the Bayesian analysis step-by-step, understanding prior probabilities, likelihoods, posterior probabilities, and simulation.\n",
    "\n",
    "### Introduction\n",
    "In 1996, world chess champion (and human!) Gary Kasparov played a much anticipated six-game chess match against the IBM supercomputer Deep Blue. Of the six games, Kasparov won three, drew two, and lost one. Thus, Kasparov won the overall match, preserving the notion that machines don't perform as well as humans when it comes to chess. Yet Kasparov and Deep Blue were to meet again for a six-game match in 1997. Let π, denote Kasparov's chances of winning any particular game in the re-match. Thus, π is a measure of his overall skill relative to Deep Blue. Given the complexity of chess, machines, and humans, π is unknown and can vary or auctuate over time. Or, in short, π is a random variable.\n",
    "\n",
    "In this analysis, we are investigating the probability of Garry Kasparov winning a game against IBM's Deep Blue. \n",
    "Using Bayesian inference, we update our beliefs about Kasparov's skill level based on prior knowledge and observed data.\n",
    "\n",
    "The problem is structured as follows:\n",
    "\n",
    "0. **Think**: Think about the problem and define the value/s we want to estimate.\n",
    "1. **Prior Model**: We define initial beliefs about Kasparov's chances of winning a game before considering data.\n",
    "2. **Binomial Data Model**: We use a Binomial distribution to model the number of games he wins out of six played.\n",
    "3. **Likelihood Function**: We compute the probability of observing the actual game outcome for different win probabilities.\n",
    "4. **Posterior Probability Model**: Using Bayes' Rule, we update our belief about Kasparov's skill after observing the match.\n",
    "5. **Simulation**: We simulate possible match outcomes to verify our theoretical calculations."
   ]
  },
  {
   "cell_type": "code",
   "execution_count": null,
   "id": "d7e0f4d6-7280-4711-9351-a0747aa9faa4",
   "metadata": {},
   "outputs": [],
   "source": [
    "import numpy as np\n",
    "import pandas as pd\n",
    "import matplotlib.pyplot as plt\n",
    "import scipy.stats as stats\n",
    "from empiricaldist import Pmf"
   ]
  },
  {
   "cell_type": "markdown",
   "id": "68d7048e-ff16-4c9e-9e13-f51a06657f6b",
   "metadata": {},
   "source": [
    "### Prior Probability Model\n",
    "\n",
    "Before incorporating any data, we assume that Kasparov's probability of winning a single game, π, could be one of three values: 0.2, 0.5, or 0.8. \n",
    "Assign prior probabilities based on past performance and your own judgment."
   ]
  },
  {
   "cell_type": "code",
   "execution_count": null,
   "id": "72ad8e44-f05b-4788-beb8-aae5f04f3c52",
   "metadata": {},
   "outputs": [],
   "source": [
    "# Define prior probabilities"
   ]
  },
  {
   "cell_type": "markdown",
   "id": "1b7936d0-e42b-480c-96f7-73c47a253794",
   "metadata": {},
   "source": [
    "### Binomial Data Model\n",
    "\n",
    "Kasparov played six games against Deep Blue in 1997. We define the random variable Y as the number of games Kasparov wins. \n",
    "This follows a Binomial distribution with parameters n = 6 (number of games) and π (his probability of winning each game).\n",
    "\n",
    "We observed that he won only **one** game. Define, using the Binomial distribution, the likelihood PMF."
   ]
  },
  {
   "cell_type": "code",
   "execution_count": null,
   "id": "2f898376-1316-46fa-9e5d-b5ade2e40c62",
   "metadata": {},
   "outputs": [],
   "source": [
    "# Define number of games played\n",
    "n_games = 6\n",
    "# Define observed wins\n",
    "observed_wins = 1\n",
    "\n",
    "# Calculate likelihood for each π value"
   ]
  },
  {
   "cell_type": "markdown",
   "id": "7eb79501-863d-47a5-b71c-b6aef911f476",
   "metadata": {},
   "source": [
    "### Posterior Probability Model\n",
    "\n",
    "Using Bayes' Rule, calculate the posterior probability for each possible π value. \n",
    "This represents our updated belief about Kasparov's win probability after observing the match results."
   ]
  },
  {
   "cell_type": "code",
   "execution_count": null,
   "id": "14d49369-d620-4d88-b26c-9f6d8a7bb8a8",
   "metadata": {},
   "outputs": [],
   "source": [
    "# calculate your posterior"
   ]
  },
  {
   "cell_type": "markdown",
   "id": "2356a782-6eb0-408c-9a3e-5b48412efc2e",
   "metadata": {},
   "source": [
    "### Posterior Simulation\n",
    "\n",
    "To further analyze the problem:\n",
    "\n",
    "- Simulate 50,000 matches using the prior model and observe how frequently each scenario occurs.\n",
    "- Then, filter the simulations to those where Kasparov won exactly one game\n",
    "- Compare the relative frequency of each π value."
   ]
  },
  {
   "cell_type": "code",
   "execution_count": null,
   "id": "63abd5c0-1e89-4675-9ad1-75819f06459c",
   "metadata": {},
   "outputs": [],
   "source": [
    "# Simulate 50,000 scenarios"
   ]
  },
  {
   "cell_type": "markdown",
   "id": "63cb96e9-075f-4db2-b7dd-6b603cc10c7a",
   "metadata": {},
   "source": [
    "### Visualizing the Results\n",
    "\n",
    "Plot the prior and posterior probability distributions to illustrate how our belief in Kasparov's win probability has changed after observing the match outcome.\n"
   ]
  },
  {
   "cell_type": "code",
   "execution_count": null,
   "id": "2a161770-5abb-4e30-a8a2-21a6ad4e99c7",
   "metadata": {},
   "outputs": [],
   "source": [
    "# Plot Prior and Posterior"
   ]
  },
  {
   "cell_type": "markdown",
   "id": "9c15de2e-8c8a-43aa-ae19-68ad60aed438",
   "metadata": {},
   "source": [
    "### Advanced Analysis\n",
    "\n",
    "Repeat the entire process, but this time, use a different prior distribution and extend the analysis to include 100 possible values of π. Justify your choice of prior and explain how it reflects your assumptions about Kasparov's performance.\n",
    "\n",
    "Now, let's assume Kasparov played two additional matches with the following outcomes:\n",
    "\n",
    "- Kasparov wins 3 out of 6 games.\n",
    "- Kasparov wins 2 out of 6 games.\n",
    "\n",
    "Analyze the sensitivity of your results to the choice of prior. Discuss how different priors influence the posterior distribution and the overall conclusions drawn from the Bayesian analysis."
   ]
  }
 ],
 "metadata": {
  "kernelspec": {
   "display_name": "Python 3 (ipykernel)",
   "language": "python",
   "name": "python3"
  },
  "language_info": {
   "codemirror_mode": {
    "name": "ipython",
    "version": 3
   },
   "file_extension": ".py",
   "mimetype": "text/x-python",
   "name": "python",
   "nbconvert_exporter": "python",
   "pygments_lexer": "ipython3",
   "version": "3.11.11"
  }
 },
 "nbformat": 4,
 "nbformat_minor": 5
}
