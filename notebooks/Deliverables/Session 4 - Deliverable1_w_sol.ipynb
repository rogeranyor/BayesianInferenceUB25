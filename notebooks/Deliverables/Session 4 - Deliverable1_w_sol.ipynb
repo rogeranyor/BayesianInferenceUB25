{
 "cells": [
  {
   "cell_type": "markdown",
   "id": "ae2500fa-872e-4b3d-89bd-0247dd9845df",
   "metadata": {},
   "source": [
    "### Objective\n",
    "In this homework, you will explore Bayesian inference using a real-world scenario: the 1997 chess match between Garry Kasparov and IBM's \n",
    "Deep Blue.  You will work through the Bayesian analysis step-by-step, understanding prior probabilities, likelihoods, posterior probabilities, and simulation.\n",
    "\n",
    "### Introduction\n",
    "In 1996, world chess champion (and human!) Gary Kasparov played a much anticipated six-game chess match against the IBM supercomputer Deep Blue. Of the six games, Kasparov won three, drew two, and lost one. Thus, Kasparov won the overall match, preserving the notion that machines don't perform as well as humans when it comes to chess. Yet Kasparov and Deep Blue were to meet again for a six-game match in 1997. Let π, denote Kasparov's chances of winning any particular game in the re-match. Thus, π is a measure of his overall skill relative to Deep Blue. Given the complexity of chess, machines, and humans, π is unknown and can vary or auctuate over time. Or, in short, π is a random variable.\n",
    "\n",
    "In this analysis, we are investigating the probability of Garry Kasparov winning a game against IBM's Deep Blue. \n",
    "Using Bayesian inference, we update our beliefs about Kasparov's skill level based on prior knowledge and observed data.\n",
    "\n",
    "The problem is structured as follows:\n",
    "\n",
    "0. **Think**: Think about the problem and define the value/s we want to estimate.\n",
    "1. **Prior Model**: We define initial beliefs about Kasparov's chances of winning a game before considering data.\n",
    "2. **Binomial Data Model**: We use a Binomial distribution to model the number of games he wins out of six played.\n",
    "3. **Likelihood Function**: We compute the probability of observing the actual game outcome for different win probabilities.\n",
    "4. **Posterior Probability Model**: Using Bayes' Rule, we update our belief about Kasparov's skill after observing the match.\n",
    "5. **Simulation**: We simulate possible match outcomes to verify our theoretical calculations."
   ]
  },
  {
   "cell_type": "code",
   "execution_count": 8,
   "id": "d7e0f4d6-7280-4711-9351-a0747aa9faa4",
   "metadata": {},
   "outputs": [],
   "source": [
    "import numpy as np\n",
    "import pandas as pd\n",
    "import matplotlib.pyplot as plt\n",
    "import scipy.stats as stats\n",
    "from empiricaldist import Pmf"
   ]
  },
  {
   "cell_type": "markdown",
   "id": "68d7048e-ff16-4c9e-9e13-f51a06657f6b",
   "metadata": {},
   "source": [
    "### Prior Probability Model\n",
    "\n",
    "Before incorporating any data, we assume that Kasparov's probability of winning a single game, π, could be one of three values: 0.2, 0.5, or 0.8. \n",
    "Assign prior probabilities based on past performance and your own judgment."
   ]
  },
  {
   "cell_type": "code",
   "execution_count": 24,
   "id": "72ad8e44-f05b-4788-beb8-aae5f04f3c52",
   "metadata": {},
   "outputs": [
    {
     "data": {
      "text/html": [
       "<div>\n",
       "<style scoped>\n",
       "    .dataframe tbody tr th:only-of-type {\n",
       "        vertical-align: middle;\n",
       "    }\n",
       "\n",
       "    .dataframe tbody tr th {\n",
       "        vertical-align: top;\n",
       "    }\n",
       "\n",
       "    .dataframe thead th {\n",
       "        text-align: right;\n",
       "    }\n",
       "</style>\n",
       "<table border=\"1\" class=\"dataframe\">\n",
       "  <thead>\n",
       "    <tr style=\"text-align: right;\">\n",
       "      <th></th>\n",
       "      <th>probs</th>\n",
       "    </tr>\n",
       "  </thead>\n",
       "  <tbody>\n",
       "    <tr>\n",
       "      <th>0.2</th>\n",
       "      <td>0.10</td>\n",
       "    </tr>\n",
       "    <tr>\n",
       "      <th>0.5</th>\n",
       "      <td>0.25</td>\n",
       "    </tr>\n",
       "    <tr>\n",
       "      <th>0.8</th>\n",
       "      <td>0.65</td>\n",
       "    </tr>\n",
       "  </tbody>\n",
       "</table>\n",
       "</div>"
      ],
      "text/plain": [
       "0.2    0.10\n",
       "0.5    0.25\n",
       "0.8    0.65\n",
       "dtype: float64"
      ]
     },
     "execution_count": 24,
     "metadata": {},
     "output_type": "execute_result"
    }
   ],
   "source": [
    "# Define prior probabilities\n",
    "pi_values = np.array([0.2, 0.5, 0.8])\n",
    "prior_probs = np.array([0.10, 0.25, 0.65])\n",
    "\n",
    "pmf_prior = Pmf(prior_probs,pi_values)\n",
    "pmf_prior.normalize()\n",
    "pmf_prior"
   ]
  },
  {
   "cell_type": "markdown",
   "id": "1b7936d0-e42b-480c-96f7-73c47a253794",
   "metadata": {},
   "source": [
    "### Binomial Data Model\n",
    "\n",
    "Kasparov played six games against Deep Blue in 1997. We define the random variable Y as the number of games Kasparov wins. \n",
    "This follows a Binomial distribution with parameters n = 6 (number of games) and π (his probability of winning each game).\n",
    "\n",
    "We observed that he won only **one** game. Define, using the Binomial distribution, the likelihood PMF."
   ]
  },
  {
   "cell_type": "code",
   "execution_count": 25,
   "id": "2f898376-1316-46fa-9e5d-b5ade2e40c62",
   "metadata": {},
   "outputs": [
    {
     "data": {
      "text/html": [
       "<div>\n",
       "<style scoped>\n",
       "    .dataframe tbody tr th:only-of-type {\n",
       "        vertical-align: middle;\n",
       "    }\n",
       "\n",
       "    .dataframe tbody tr th {\n",
       "        vertical-align: top;\n",
       "    }\n",
       "\n",
       "    .dataframe thead th {\n",
       "        text-align: right;\n",
       "    }\n",
       "</style>\n",
       "<table border=\"1\" class=\"dataframe\">\n",
       "  <thead>\n",
       "    <tr style=\"text-align: right;\">\n",
       "      <th></th>\n",
       "      <th>probs</th>\n",
       "    </tr>\n",
       "  </thead>\n",
       "  <tbody>\n",
       "    <tr>\n",
       "      <th>0.2</th>\n",
       "      <td>0.804942</td>\n",
       "    </tr>\n",
       "    <tr>\n",
       "      <th>0.5</th>\n",
       "      <td>0.191913</td>\n",
       "    </tr>\n",
       "    <tr>\n",
       "      <th>0.8</th>\n",
       "      <td>0.003144</td>\n",
       "    </tr>\n",
       "  </tbody>\n",
       "</table>\n",
       "</div>"
      ],
      "text/plain": [
       "0.2    0.804942\n",
       "0.5    0.191913\n",
       "0.8    0.003144\n",
       "dtype: float64"
      ]
     },
     "execution_count": 25,
     "metadata": {},
     "output_type": "execute_result"
    }
   ],
   "source": [
    "# Define number of games played\n",
    "n_games = 6\n",
    "# Define observed wins\n",
    "observed_wins = 1\n",
    "\n",
    "# Calculate likelihood for each π value\n",
    "likelihoods = stats.binom.pmf(observed_wins, n_games, pi_values)\n",
    "pmf_likelihoods = Pmf(likelihoods,pi_values)\n",
    "pmf_likelihoods.normalize()\n",
    "pmf_likelihoods"
   ]
  },
  {
   "cell_type": "markdown",
   "id": "7eb79501-863d-47a5-b71c-b6aef911f476",
   "metadata": {},
   "source": [
    "### Posterior Probability Model\n",
    "\n",
    "Using Bayes' Rule, calculate the posterior probability for each possible π value. \n",
    "This represents our updated belief about Kasparov's win probability after observing the match results."
   ]
  },
  {
   "cell_type": "code",
   "execution_count": 27,
   "id": "14d49369-d620-4d88-b26c-9f6d8a7bb8a8",
   "metadata": {},
   "outputs": [
    {
     "data": {
      "text/html": [
       "<div>\n",
       "<style scoped>\n",
       "    .dataframe tbody tr th:only-of-type {\n",
       "        vertical-align: middle;\n",
       "    }\n",
       "\n",
       "    .dataframe tbody tr th {\n",
       "        vertical-align: top;\n",
       "    }\n",
       "\n",
       "    .dataframe thead th {\n",
       "        text-align: right;\n",
       "    }\n",
       "</style>\n",
       "<table border=\"1\" class=\"dataframe\">\n",
       "  <thead>\n",
       "    <tr style=\"text-align: right;\">\n",
       "      <th></th>\n",
       "      <th>probs</th>\n",
       "    </tr>\n",
       "  </thead>\n",
       "  <tbody>\n",
       "    <tr>\n",
       "      <th>0.2</th>\n",
       "      <td>0.616737</td>\n",
       "    </tr>\n",
       "    <tr>\n",
       "      <th>0.5</th>\n",
       "      <td>0.367604</td>\n",
       "    </tr>\n",
       "    <tr>\n",
       "      <th>0.8</th>\n",
       "      <td>0.015659</td>\n",
       "    </tr>\n",
       "  </tbody>\n",
       "</table>\n",
       "</div>"
      ],
      "text/plain": [
       "0.2    0.616737\n",
       "0.5    0.367604\n",
       "0.8    0.015659\n",
       "dtype: float64"
      ]
     },
     "execution_count": 27,
     "metadata": {},
     "output_type": "execute_result"
    }
   ],
   "source": [
    "posterior_probs = pmf_prior * pmf_likelihoods \n",
    "posterior_probs.normalize()\n",
    "posterior_probs"
   ]
  },
  {
   "cell_type": "markdown",
   "id": "19a4b0ec-9e64-4681-86ca-af9c5e93943b",
   "metadata": {},
   "source": [
    "Here, \n",
    "$$f(\\pi\\big|y=1)=\\frac{f(\\pi)L(\\pi\\big|y=1)}{f(y=1)}$$\n",
    "that, for each $\\pi$ become the previous table\n",
    "$$\\begin{aligned} & f(\\pi=0.2 \\mid y=1)=\\frac{0.10 \\cdot 0.3932}{0.0637} \\approx 0.617 \\\\ & f(\\pi=0.5|y|=1)=\\frac{0.25 \\cdot 0.0938}{0.0637} \\approx 0.368 \\\\ & f(\\pi=0.8 \\mid y=1)=\\frac{0.65 \\cdot 0.0015}{0.0637} \\approx 0.015\\end{aligned}$$\n",
    "\n",
    "Mainly, though we were fairly confident that Kasparov's performance would have improved from 1996 to 1997, after winning only one game, the chances of Kasparov being the dominant player (π = 0.8) dropped from 0.65 to 0.015. In fact, the scenario with the greatest posterior support is that Kasparov is the weaker player, with a win probability of only 0.2. Good news for machines. Bad news for humans.\n"
   ]
  },
  {
   "cell_type": "markdown",
   "id": "2356a782-6eb0-408c-9a3e-5b48412efc2e",
   "metadata": {},
   "source": [
    "### Posterior Simulation\n",
    "\n",
    "To further analyze the problem:\n",
    "\n",
    "- Simulate 50,000 matches using the prior model and observe how frequently each scenario occurs.\n",
    "- Then, filter the simulations to those where Kasparov won exactly one game\n",
    "- Compare the relative frequency of each π value."
   ]
  },
  {
   "cell_type": "code",
   "execution_count": 1,
   "id": "63abd5c0-1e89-4675-9ad1-75819f06459c",
   "metadata": {},
   "outputs": [
    {
     "ename": "NameError",
     "evalue": "name 'np' is not defined",
     "output_type": "error",
     "traceback": [
      "\u001b[1;31m---------------------------------------------------------------------------\u001b[0m",
      "\u001b[1;31mNameError\u001b[0m                                 Traceback (most recent call last)",
      "Cell \u001b[1;32mIn[1], line 3\u001b[0m\n\u001b[0;32m      1\u001b[0m \u001b[38;5;66;03m# Simulate 50,000 scenarios\u001b[39;00m\n\u001b[0;32m      2\u001b[0m n_simulations \u001b[38;5;241m=\u001b[39m \u001b[38;5;241m50000\u001b[39m\n\u001b[1;32m----> 3\u001b[0m simulated_pi \u001b[38;5;241m=\u001b[39m np\u001b[38;5;241m.\u001b[39mrandom\u001b[38;5;241m.\u001b[39mchoice(pi_values, size\u001b[38;5;241m=\u001b[39mn_simulations, p\u001b[38;5;241m=\u001b[39mprior_probs)\n\u001b[0;32m      4\u001b[0m \u001b[38;5;28mprint\u001b[39m(\u001b[38;5;124m'\u001b[39m\u001b[38;5;124msimulated_pi:\u001b[39m\u001b[38;5;124m'\u001b[39m,simulated_pi)\n\u001b[0;32m      5\u001b[0m simulated_wins \u001b[38;5;241m=\u001b[39m np\u001b[38;5;241m.\u001b[39mrandom\u001b[38;5;241m.\u001b[39mbinomial(n_games, simulated_pi)\n",
      "\u001b[1;31mNameError\u001b[0m: name 'np' is not defined"
     ]
    }
   ],
   "source": [
    "# Simulate 50,000 scenarios\n",
    "n_simulations = 50000\n",
    "simulated_pi = np.random.choice(pi_values, size=n_simulations, p=prior_probs)\n",
    "print('simulated_pi:',simulated_pi)\n",
    "simulated_wins = np.random.binomial(n_games, simulated_pi)\n",
    "print('simulated_wins:',simulated_wins)\n",
    "\n",
    "# Filter simulations matching observed outcome\n",
    "filtered_simulated_pi = simulated_pi[simulated_wins == observed_wins]\n",
    "print('filtered_simulated_pi:',filtered_simulated_pi[:10])\n",
    "\n",
    "\n",
    "# Compute proportions\n",
    "posterior_simulation_results = pd.DataFrame({'π': pi_values})\n",
    "posterior_simulation_results['Proportion'] = [np.mean(filtered_simulated_pi == pi) for pi in pi_values]\n",
    "posterior_simulation_results"
   ]
  },
  {
   "cell_type": "code",
   "execution_count": 74,
   "id": "65aec070-1c67-4bb0-a74e-8dd00de3bc98",
   "metadata": {},
   "outputs": [],
   "source": [
    "histo = []\n",
    "for i in pi_values:\n",
    "    aux=[]\n",
    "    for obs_wins in range(7):\n",
    "        aa = simulated_pi[simulated_wins == obs_wins]\n",
    "        aux.append(np.count_nonzero(aa[aa==i]))\n",
    "    histo.append(aux/np.sum(aux))"
   ]
  },
  {
   "cell_type": "code",
   "execution_count": 93,
   "id": "2e05222a-22c1-489d-9e9b-8db080f9d26a",
   "metadata": {},
   "outputs": [
    {
     "data": {
      "image/png": "[encoded data removed]",
      "text/plain": [
       "<Figure size 1200x400 with 3 Axes>"
      ]
     },
     "metadata": {},
     "output_type": "display_data"
    }
   ],
   "source": [
    "# Plot Prior and Posterior\n",
    "width = 0.8\n",
    "fig, ax = plt.subplots(1, 3, figsize=(12, 4))\n",
    "ax[0].bar(range(7), histo[0], width=width, label='Prior')\n",
    "ax[0].set_title(r\"$\\pi = 0.2$\")\n",
    "ax[1].bar(range(7), histo[1], width=width, label='Prior')\n",
    "ax[1].set_title(r\"$\\pi = 0.4$\")\n",
    "ax[2].bar(range(7), histo[2], width=width, label='Prior')\n",
    "ax[2].set_title(r\"$\\pi = 0.8$\")\n",
    "\n",
    "plt.show()"
   ]
  },
  {
   "cell_type": "markdown",
   "id": "63cb96e9-075f-4db2-b7dd-6b603cc10c7a",
   "metadata": {},
   "source": [
    "### Visualizing the Results\n",
    "\n",
    "Plot the prior and posterior probability distributions to illustrate how our belief in Kasparov's win probability has changed after observing the match outcome.\n"
   ]
  },
  {
   "cell_type": "code",
   "execution_count": 56,
   "id": "2a161770-5abb-4e30-a8a2-21a6ad4e99c7",
   "metadata": {},
   "outputs": [
    {
     "data": {
      "image/png": "[encoded data removed]",
      "text/plain": [
       "<Figure size 600x250 with 2 Axes>"
      ]
     },
     "metadata": {},
     "output_type": "display_data"
    }
   ],
   "source": [
    "# Plot Prior and Posterior\n",
    "fig, ax = plt.subplots(1, 2, figsize=(6, 2.5))\n",
    "ax[0].bar(pi_values, prior_probs, width=0.1, label='Prior')\n",
    "ax[0].set_title(\"Prior Probability Model\")\n",
    "ax[1].bar(pi_values, posterior_probs, width=0.1, label='Posterior')\n",
    "ax[1].set_title(\"Posterior Probability Model\")\n",
    "plt.show()"
   ]
  },
  {
   "cell_type": "markdown",
   "id": "9c15de2e-8c8a-43aa-ae19-68ad60aed438",
   "metadata": {},
   "source": [
    "### Advanced Analysis\n",
    "\n",
    "Repeat the entire process, but this time, use a different prior distribution and extend the analysis to include 100 possible values of π. Justify your choice of prior and explain how it reflects your assumptions about Kasparov's performance.\n",
    "\n",
    "Now, let's assume Kasparov played two additional matches with the following outcomes:\n",
    "\n",
    "- Kasparov wins 3 out of 6 games.\n",
    "- Kasparov wins 2 out of 6 games.\n",
    "\n",
    "Analyze the sensitivity of your results to the choice of prior. Discuss how different priors influence the posterior distribution and the overall conclusions drawn from the Bayesian analysis."
   ]
  }
 ],
 "metadata": {
  "kernelspec": {
   "display_name": "Python 3 (ipykernel)",
   "language": "python",
   "name": "python3"
  },
  "language_info": {
   "codemirror_mode": {
    "name": "ipython",
    "version": 3
   },
   "file_extension": ".py",
   "mimetype": "text/x-python",
   "name": "python",
   "nbconvert_exporter": "python",
   "pygments_lexer": "ipython3",
   "version": "3.11.11"
  }
 },
 "nbformat": 4,
 "nbformat_minor": 5
}
